{
    "cells": [
        {
            "cell_type": "markdown",
            "metadata": {
                "collapsed": true
            },
            "source": "# The battle of Neighborhoods\n# Week 4 : Part 1) -\n# Title : Restaurant recommender system in Abuja\n## Problem Background:\nAbuja is the capital city of Nigeria located in the centre of the country within the Federal Capital Territory (FCT). It is a planned city and was built mainly in the 1980s, replacing the country's most populous city of Lagos as the capital on 12 December 1991. Abuja's geography is defined by Aso Rock, a 400-metre (1,300 ft) monolith left by water erosion. The Presidential Complex, National Assembly, Supreme Court and much of the city extend to the south of the rock. Zuma Rock, a 792-metre (2,598 ft) monolith, lies just north of the city on the expressway to Kaduna.\n\n  \n  At the 2006 census, the city of Abuja had a population of 776,298 making it one of the ten most populous cities in Nigeria. According to the United Nations, Abuja grew by 139.7% between 2000 and 2010, making it the fastest growing city in the world. As of 2015, the city is experiencing an annual growth of at least 35%, retaining its position as the fastest-growing city on the African continent and one of the fastest-growing in the world. As at 2016, the metropolitan area of Abuja is estimated at six million persons, placing it behind only Lagos, as the most populous metro area in Nigeria.\n\n  \n  The diversity of the cuisine available is reflective of the social and economic diversity of Abuja. Roadside vendors, tea stalls, South Indian, North Indian, Muslim food, Chinese and Western fast food are all very popular in the city. Abuja can also be called a foodie's paradise because of its vast variety of foods and edibles with a touch of Abuja's uniqueness and tradition\n\n## Problem description :\nSuppose i travel and keep changing places very frequently. This is very hectic and plus i get to experience very different types of environment, of which i donot have much knowledge about. In such situation, food can be an important factor for decided how you rate your trips and plus also recommmending it to the people. Food can also attract people around to world to try it out if it were to be the best. In such scenarios, we need to find the right place, at reasonable cost, to serve us the best possible way. So there are few questions that must be addresed, such as :\n\n1. How many types of foods are available in the restaurant ?\n2. which is the most nearest to me with good rating ?\n3. How many \"similar\" restaurants are available near by me ?\n4. Do the \"similar\" restaurants cost more ? if so, what speciality do that have ?\n  \n  To address such question, XXYZ company's manager decides to allocate this project to me not just to find out solutions to the questions but also build a system that can help in recommending new places based on their rankings compared to the previously visited by me.\n\n  \n  Expectations from this recommender system is to get answer for the questions, and in such a way that it uncovers all the perspective of managing recommendations. It is sighted to show :\n\n1. What types of restaurants are present in a particular area ?\n2. where are the similar restaurant present based on a preference to particular food ?\n3. How do different restaurants rank with respect to my preferences ?\n\n## Target audience :\nTarget audiences for this project does not limit to a person who keeps travelling but everyone. People could simply decide to look for a similar restaurant all the time because they are addicted to a specific category of food. People who rarely use restaurants would prefer to have the most rated restaurants nearby them and all this could be easily handed by our recommender system. So target for this project is basically everyone who is exploring different places or similar places.\n\n## Success rate :\nWith restaurants evolving, new food categories emerge, hybrid food starts to be more popular, we need a system that could help us access vast number of food varieties. It is impossible for a person to ask each and everyone about their visit to a particular place and also not everyone remembers everything. On the other hand, Computers are good at remembering things, and with Machine learning to its peak, it high time technology will by our personal guidence and help us personally based on our likes and dislikes. So people would care about this project as their personal assistance and success rate could certainly increase with time.\n"
        },
        {
            "cell_type": "code",
            "execution_count": null,
            "metadata": {},
            "outputs": [],
            "source": ""
        }
    ],
    "metadata": {
        "kernelspec": {
            "display_name": "Python 3.6",
            "language": "python",
            "name": "python3"
        },
        "language_info": {
            "codemirror_mode": {
                "name": "ipython",
                "version": 3
            },
            "file_extension": ".py",
            "mimetype": "text/x-python",
            "name": "python",
            "nbconvert_exporter": "python",
            "pygments_lexer": "ipython3",
            "version": "3.6.9"
        }
    },
    "nbformat": 4,
    "nbformat_minor": 1
}